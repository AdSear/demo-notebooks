{
 "cells": [
  {
   "cell_type": "markdown",
   "metadata": {
    "id": "JAPoU8Sm5E6e"
   },
   "source": [
    "# Vertex AI: Track parameters and metrics for locally trained models"
   ]
  },
  {
   "cell_type": "markdown",
   "metadata": {
    "id": "7c5ad9693bbb"
   },
   "source": [
    "## Overview\n",
    "\n",
    "As a Data Scientist, you probably start running model experiments locally on your notebook. Depending on the framework you use, you would need to track parameters, training time series and evaluation metrics. In this way, you would be able to explain the modelling approach you would choose. \n",
    "\n",
    "Learn more about [Vertex AI Experiments](https://cloud.google.com/vertex-ai/docs/experiments/intro-vertex-ai-experiments)."
   ]
  },
  {
   "cell_type": "markdown",
   "metadata": {
    "id": "209510393d45"
   },
   "source": [
    "### Objective\n",
    "\n",
    "In this tutorial, you learn how to use Vertex AI Experiments to compare and evaluate model experiments.\n",
    "\n",
    "This tutorial uses the following Google Cloud ML services and resources:\n",
    "\n",
    "- Vertex AI Workbench\n",
    "- Vertex AI Experiments\n",
    "\n",
    "The steps performed include:\n",
    "\n",
    "- log the model parameters\n",
    "- log the loss and metrics on every epoch to TensorBoard\n",
    "- log the evaluation metrics\n"
   ]
  },
  {
   "cell_type": "markdown",
   "metadata": {
    "id": "6f14730ed9af"
   },
   "source": [
    "### Dataset\n",
    "\n",
    "In this notebook, we will train a simple distributed neural network (DNN) model to predict automobile's miles per gallon (MPG) based on automobile information in the [auto-mpg dataset](https://www.kaggle.com/devanshbesain/exploration-and-analysis-auto-mpg).\n"
   ]
  },
  {
   "cell_type": "markdown",
   "metadata": {
    "id": "tvgnzT1CKxrO"
   },
   "source": [
    "### Costs \n",
    "\n",
    "This tutorial uses billable components of Google Cloud:\n",
    "\n",
    "* Vertex AI\n",
    "* Vertex AI TensorBoard\n",
    "* Cloud Storage\n",
    "\n",
    "Learn about [Vertex AI\n",
    "pricing](https://cloud.google.com/vertex-ai/pricing) and [Cloud Storage\n",
    "pricing](https://cloud.google.com/storage/pricing), and use the [Pricing\n",
    "Calculator](https://cloud.google.com/products/calculator/)\n",
    "to generate a cost estimate based on your projected usage."
   ]
  },
  {
   "cell_type": "markdown",
   "metadata": {
    "id": "XoEqT2Y4DJmf"
   },
   "source": [
    "### Import libraries"
   ]
  },
  {
   "cell_type": "code",
   "execution_count": 1,
   "metadata": {
    "id": "pRUOFELefqf1"
   },
   "outputs": [],
   "source": [
    "import matplotlib.pyplot as plt\n",
    "import pandas as pd\n",
    "from google.cloud import aiplatform as vertex_ai\n",
    "from tensorflow.python.keras import Sequential, layers\n",
    "from tensorflow.python.keras.utils import data_utils"
   ]
  },
  {
   "cell_type": "markdown",
   "metadata": {
    "id": "xtXZWmYqJ1bh"
   },
   "source": [
    "### Define constants"
   ]
  },
  {
   "cell_type": "code",
   "execution_count": 32,
   "metadata": {
    "id": "JIOrI-hoJ46P"
   },
   "outputs": [],
   "source": [
    "PROJECT = 'qwiklabs-gcp-04-15a54282d7af'\n",
    "LOCATION = 'us-central1'\n",
    "EXPERIMENT_NAME = \"test-experiment-0\""
   ]
  },
  {
   "cell_type": "markdown",
   "metadata": {
    "id": "O8XJZB3gR8eL"
   },
   "source": [
    "### Initialize Vertex AI SDK for Python\n",
    "\n",
    "Initialize the Vertex AI SDK for Python for your project and corresponding bucket."
   ]
  },
  {
   "cell_type": "markdown",
   "metadata": {
    "id": "bba904753a2c"
   },
   "source": [
    "### Create TensorBoard instance using Vertex AI TensorBoard\n",
    "\n",
    "You can upload your TensorBoard logs by first creating a Vertex AI TensorBoard instance.\n",
    "\n",
    "**Notice** that if you did not activate yet, Vertex AI TensorBoard charges a monthly fee of $300 per unique active user. \n",
    "\n",
    "Learn more about [TensorBoard overview](https://cloud.google.com/vertex-ai/docs/experiments/tensorboard-overview)."
   ]
  },
  {
   "cell_type": "code",
   "execution_count": 34,
   "metadata": {
    "id": "d9800e386d0c"
   },
   "outputs": [
    {
     "name": "stdout",
     "output_type": "stream",
     "text": [
      "Creating Tensorboard\n"
     ]
    },
    {
     "name": "stderr",
     "output_type": "stream",
     "text": [
      "INFO:google.cloud.aiplatform.tensorboard.tensorboard_resource:Creating Tensorboard\n"
     ]
    },
    {
     "name": "stdout",
     "output_type": "stream",
     "text": [
      "Create Tensorboard backing LRO: projects/653299574369/locations/us-central1/tensorboards/7160415544263311360/operations/1374083664329048064\n"
     ]
    },
    {
     "name": "stderr",
     "output_type": "stream",
     "text": [
      "INFO:google.cloud.aiplatform.tensorboard.tensorboard_resource:Create Tensorboard backing LRO: projects/653299574369/locations/us-central1/tensorboards/7160415544263311360/operations/1374083664329048064\n"
     ]
    },
    {
     "name": "stdout",
     "output_type": "stream",
     "text": [
      "Tensorboard created. Resource name: projects/653299574369/locations/us-central1/tensorboards/7160415544263311360\n"
     ]
    },
    {
     "name": "stderr",
     "output_type": "stream",
     "text": [
      "INFO:google.cloud.aiplatform.tensorboard.tensorboard_resource:Tensorboard created. Resource name: projects/653299574369/locations/us-central1/tensorboards/7160415544263311360\n"
     ]
    },
    {
     "name": "stdout",
     "output_type": "stream",
     "text": [
      "To use this Tensorboard in another session:\n"
     ]
    },
    {
     "name": "stderr",
     "output_type": "stream",
     "text": [
      "INFO:google.cloud.aiplatform.tensorboard.tensorboard_resource:To use this Tensorboard in another session:\n"
     ]
    },
    {
     "name": "stdout",
     "output_type": "stream",
     "text": [
      "tb = aiplatform.Tensorboard('projects/653299574369/locations/us-central1/tensorboards/7160415544263311360')\n"
     ]
    },
    {
     "name": "stderr",
     "output_type": "stream",
     "text": [
      "INFO:google.cloud.aiplatform.tensorboard.tensorboard_resource:tb = aiplatform.Tensorboard('projects/653299574369/locations/us-central1/tensorboards/7160415544263311360')\n"
     ]
    }
   ],
   "source": [
    "vertex_ai_tb = vertex_ai.Tensorboard.create()"
   ]
  },
  {
   "cell_type": "code",
   "execution_count": 36,
   "metadata": {},
   "outputs": [],
   "source": [
    "vertex_ai.init(project=PROJECT, \n",
    "               location=LOCATION,\n",
    "               experiment=EXPERIMENT_NAME,\n",
    "               experiment_tensorboard=vertex_ai_tb)"
   ]
  },
  {
   "cell_type": "markdown",
   "metadata": {
    "id": "12ab31563365"
   },
   "source": [
    "## Training with Vertex AI Experiments\n",
    "\n",
    "Vertex AI enables users to track the steps (for example, preprocessing, training) of an experiment run, and track inputs (for example, algorithm, parameters, datasets) and outputs (for example, models, checkpoints, metrics) of those steps. \n",
    "\n",
    "To better understanding how parameters and metrics are stored and organized, the following concepts are explained:\n",
    "\n",
    "1. **Experiments** describe a context that groups your runs and the artifacts you create into a logical session. For example, in this notebook you create an Experiment and log data to that experiment.\n",
    "\n",
    "1. **Run** represents a single path/avenue that you executed while performing an experiment. A run includes artifacts that you used as inputs or outputs, and parameters that you used in this execution. An Experiment can contain multiple runs. \n",
    "\n",
    "You can use the  Vertex AI SDK for Python to track metrics and parameters models trained locally for each experiment across several experiment runs. \n",
    "\n",
    "In the following example, you train a simple distributed neural network (DNN) model to predict automobile's miles per gallon (MPG) based on automobile information in the [auto-mpg dataset](https://www.kaggle.com/devanshbesain/exploration-and-analysis-auto-mpg)."
   ]
  },
  {
   "cell_type": "code",
   "execution_count": 37,
   "metadata": {
    "id": "bfe39f7b7f16"
   },
   "outputs": [],
   "source": [
    "# Helpers ----------------------------------------------------------------------\n",
    "\n",
    "def read_data(uri):\n",
    "    \"\"\"\n",
    "    Read data\n",
    "    Args:\n",
    "        uri: path to data\n",
    "    Returns:\n",
    "        pandas dataframe\n",
    "    \"\"\"\n",
    "    dataset_path = data_utils.get_file(\"auto-mpg.data\", uri)\n",
    "    column_names = [\n",
    "        \"MPG\",\n",
    "        \"Cylinders\",\n",
    "        \"Displacement\",\n",
    "        \"Horsepower\",\n",
    "        \"Weight\",\n",
    "        \"Acceleration\",\n",
    "        \"Model Year\",\n",
    "        \"Origin\",\n",
    "    ]\n",
    "    raw_dataset = pd.read_csv(\n",
    "        dataset_path,\n",
    "        names=column_names,\n",
    "        na_values=\"?\",\n",
    "        comment=\"\\t\",\n",
    "        sep=\" \",\n",
    "        skipinitialspace=True,\n",
    "    )\n",
    "    dataset = raw_dataset.dropna()\n",
    "    dataset[\"Origin\"] = dataset[\"Origin\"].map(\n",
    "        lambda x: {1: \"USA\", 2: \"Europe\", 3: \"Japan\"}.get(x)\n",
    "    )\n",
    "    dataset = pd.get_dummies(dataset, prefix=\"\", prefix_sep=\"\")\n",
    "    return dataset\n",
    "\n",
    "\n",
    "def train_test_split(dataset, split_frac=0.8, random_state=0):\n",
    "    \"\"\"\n",
    "    Split data into train and test\n",
    "    Args:\n",
    "        dataset: pandas dataframe\n",
    "        split_frac: fraction of data to use for training\n",
    "        random_state: random seed\n",
    "    Returns:\n",
    "        train and test dataframes\n",
    "    \"\"\"\n",
    "    train_dataset = dataset.sample(frac=split_frac, random_state=random_state)\n",
    "    test_dataset = dataset.drop(train_dataset.index)\n",
    "    train_labels = train_dataset.pop(\"MPG\")\n",
    "    test_labels = test_dataset.pop(\"MPG\")\n",
    "\n",
    "    return train_dataset, test_dataset, train_labels, test_labels\n",
    "\n",
    "\n",
    "def normalize_dataset(train_dataset, test_dataset):\n",
    "    \"\"\"\n",
    "    Normalize data\n",
    "    Args:\n",
    "        train_dataset: pandas dataframe\n",
    "        test_dataset: pandas dataframe\n",
    "\n",
    "    Returns:\n",
    "\n",
    "    \"\"\"\n",
    "    train_stats = train_dataset.describe()\n",
    "    train_stats = train_stats.transpose()\n",
    "\n",
    "    def norm(x):\n",
    "        return (x - train_stats[\"mean\"]) / train_stats[\"std\"]\n",
    "\n",
    "    normed_train_data = norm(train_dataset)\n",
    "    normed_test_data = norm(test_dataset)\n",
    "\n",
    "    return normed_train_data, normed_test_data\n",
    "\n",
    "\n",
    "def build_model(num_units, dropout_rate):\n",
    "    \"\"\"\n",
    "    Build model\n",
    "    Args:\n",
    "        num_units: number of units in hidden layer\n",
    "        dropout_rate: dropout rate\n",
    "    Returns:\n",
    "        compiled model\n",
    "    \"\"\"\n",
    "    model = Sequential(\n",
    "        [\n",
    "            layers.Dense(\n",
    "                num_units,\n",
    "                activation=\"relu\",\n",
    "                input_shape=[9],\n",
    "            ),\n",
    "            layers.Dropout(rate=dropout_rate),\n",
    "            layers.Dense(num_units, activation=\"relu\"),\n",
    "            layers.Dense(1),\n",
    "        ]\n",
    "    )\n",
    "\n",
    "    model.compile(loss=\"mse\", optimizer=\"adam\", metrics=[\"mae\", \"mse\"])\n",
    "    return model\n",
    "\n",
    "\n",
    "def train(\n",
    "    model,\n",
    "    train_data,\n",
    "    train_labels,\n",
    "    validation_split=0.2,\n",
    "    epochs=10,\n",
    "):\n",
    "    \"\"\"\n",
    "    Train model\n",
    "    Args:\n",
    "        train_data: pandas dataframe\n",
    "        train_labels: pandas dataframe\n",
    "        model: compiled model\n",
    "        validation_split: fraction of data to use for validation\n",
    "        epochs: number of epochs to train for\n",
    "    Returns:\n",
    "        history\n",
    "    \"\"\"\n",
    "    history = model.fit(\n",
    "        train_data, train_labels, epochs=epochs, validation_split=validation_split\n",
    "    )\n",
    "\n",
    "    return history"
   ]
  },
  {
   "cell_type": "markdown",
   "metadata": {
    "id": "u-iTnzt3B6Z_"
   },
   "source": [
    "### Run experiment and evaluate experiment runs\n",
    "\n",
    "You define several experiment configurations, run experiments and track them in Vertex AI Experiments"
   ]
  },
  {
   "cell_type": "code",
   "execution_count": 38,
   "metadata": {
    "id": "i2wnpu8_7JfV"
   },
   "outputs": [
    {
     "name": "stderr",
     "output_type": "stream",
     "text": [
      "/opt/conda/lib/python3.7/site-packages/ipykernel_launcher.py:32: SettingWithCopyWarning: \n",
      "A value is trying to be set on a copy of a slice from a DataFrame.\n",
      "Try using .loc[row_indexer,col_indexer] = value instead\n",
      "\n",
      "See the caveats in the documentation: https://pandas.pydata.org/pandas-docs/stable/user_guide/indexing.html#returning-a-view-versus-a-copy\n"
     ]
    },
    {
     "name": "stdout",
     "output_type": "stream",
     "text": [
      "Associating projects/653299574369/locations/us-central1/metadataStores/default/contexts/test-experiment-0-auto-mpg-local-run-0 to Experiment: test-experiment-0\n"
     ]
    },
    {
     "name": "stderr",
     "output_type": "stream",
     "text": [
      "INFO:google.cloud.aiplatform.metadata.experiment_resources:Associating projects/653299574369/locations/us-central1/metadataStores/default/contexts/test-experiment-0-auto-mpg-local-run-0 to Experiment: test-experiment-0\n"
     ]
    },
    {
     "name": "stdout",
     "output_type": "stream",
     "text": [
      "Epoch 1/3\n",
      "8/8 [==============================] - 1s 23ms/step - loss: 575.0167 - mae: 22.7529 - mse: 575.0167 - val_loss: 590.2210 - val_mae: 23.0788 - val_mse: 590.2210\n",
      "Epoch 2/3\n",
      "8/8 [==============================] - 0s 5ms/step - loss: 558.9492 - mae: 22.4379 - mse: 558.9492 - val_loss: 574.3516 - val_mae: 22.7535 - val_mse: 574.3516\n",
      "Epoch 3/3\n",
      "8/8 [==============================] - 0s 5ms/step - loss: 544.7881 - mae: 22.1386 - mse: 544.7881 - val_loss: 557.6143 - val_mae: 22.4092 - val_mse: 557.6143\n",
      "3/3 - 0s - loss: 572.2098 - mae: 22.6452 - mse: 572.2098\n",
      "Associating projects/653299574369/locations/us-central1/metadataStores/default/contexts/test-experiment-0-auto-mpg-local-run-1 to Experiment: test-experiment-0\n"
     ]
    },
    {
     "name": "stderr",
     "output_type": "stream",
     "text": [
      "INFO:google.cloud.aiplatform.metadata.experiment_resources:Associating projects/653299574369/locations/us-central1/metadataStores/default/contexts/test-experiment-0-auto-mpg-local-run-1 to Experiment: test-experiment-0\n"
     ]
    },
    {
     "name": "stdout",
     "output_type": "stream",
     "text": [
      "Epoch 1/10\n",
      "8/8 [==============================] - 1s 23ms/step - loss: 572.7580 - mae: 22.5908 - mse: 572.7580 - val_loss: 592.9346 - val_mae: 22.9886 - val_mse: 592.9346\n",
      "Epoch 2/10\n",
      "8/8 [==============================] - 0s 5ms/step - loss: 566.4481 - mae: 22.4312 - mse: 566.4481 - val_loss: 585.4401 - val_mae: 22.8076 - val_mse: 585.4401\n",
      "Epoch 3/10\n",
      "8/8 [==============================] - 0s 5ms/step - loss: 559.5561 - mae: 22.2672 - mse: 559.5561 - val_loss: 577.5833 - val_mae: 22.6160 - val_mse: 577.5833\n",
      "Epoch 4/10\n",
      "8/8 [==============================] - 0s 5ms/step - loss: 551.5470 - mae: 22.0862 - mse: 551.5470 - val_loss: 569.2199 - val_mae: 22.4106 - val_mse: 569.2199\n",
      "Epoch 5/10\n",
      "8/8 [==============================] - 0s 5ms/step - loss: 543.9278 - mae: 21.8688 - mse: 543.9278 - val_loss: 560.0836 - val_mae: 22.1852 - val_mse: 560.0836\n",
      "Epoch 6/10\n",
      "8/8 [==============================] - 0s 5ms/step - loss: 535.5735 - mae: 21.6625 - mse: 535.5735 - val_loss: 549.8375 - val_mae: 21.9305 - val_mse: 549.8375\n",
      "Epoch 7/10\n",
      "8/8 [==============================] - 0s 7ms/step - loss: 524.1545 - mae: 21.3823 - mse: 524.1545 - val_loss: 538.4099 - val_mae: 21.6469 - val_mse: 538.4099\n",
      "Epoch 8/10\n",
      "8/8 [==============================] - 0s 4ms/step - loss: 513.2682 - mae: 21.1220 - mse: 513.2682 - val_loss: 525.2390 - val_mae: 21.3205 - val_mse: 525.2390\n",
      "Epoch 9/10\n",
      "8/8 [==============================] - 0s 5ms/step - loss: 500.6841 - mae: 20.7730 - mse: 500.6841 - val_loss: 510.5848 - val_mae: 20.9536 - val_mse: 510.5848\n",
      "Epoch 10/10\n",
      "8/8 [==============================] - 0s 5ms/step - loss: 487.4570 - mae: 20.4635 - mse: 487.4570 - val_loss: 494.0085 - val_mae: 20.5346 - val_mse: 494.0085\n",
      "3/3 - 0s - loss: 515.8559 - mae: 21.0031 - mse: 515.8559\n",
      "Associating projects/653299574369/locations/us-central1/metadataStores/default/contexts/test-experiment-0-auto-mpg-local-run-2 to Experiment: test-experiment-0\n"
     ]
    },
    {
     "name": "stderr",
     "output_type": "stream",
     "text": [
      "INFO:google.cloud.aiplatform.metadata.experiment_resources:Associating projects/653299574369/locations/us-central1/metadataStores/default/contexts/test-experiment-0-auto-mpg-local-run-2 to Experiment: test-experiment-0\n"
     ]
    },
    {
     "name": "stdout",
     "output_type": "stream",
     "text": [
      "Epoch 1/10\n",
      "8/8 [==============================] - 1s 23ms/step - loss: 568.4247 - mae: 22.6158 - mse: 568.4247 - val_loss: 595.4845 - val_mae: 23.1727 - val_mse: 595.4845\n",
      "Epoch 2/10\n",
      "8/8 [==============================] - 0s 5ms/step - loss: 561.7313 - mae: 22.4920 - mse: 561.7313 - val_loss: 586.5656 - val_mae: 23.0043 - val_mse: 586.5656\n",
      "Epoch 3/10\n",
      "8/8 [==============================] - 0s 6ms/step - loss: 551.2204 - mae: 22.2724 - mse: 551.2204 - val_loss: 576.9360 - val_mae: 22.8212 - val_mse: 576.9360\n",
      "Epoch 4/10\n",
      "8/8 [==============================] - 0s 4ms/step - loss: 543.4050 - mae: 22.1215 - mse: 543.4050 - val_loss: 566.3925 - val_mae: 22.6185 - val_mse: 566.3925\n",
      "Epoch 5/10\n",
      "8/8 [==============================] - 0s 5ms/step - loss: 533.9868 - mae: 21.9281 - mse: 533.9868 - val_loss: 554.2427 - val_mae: 22.3840 - val_mse: 554.2427\n",
      "Epoch 6/10\n",
      "8/8 [==============================] - 0s 5ms/step - loss: 522.8176 - mae: 21.7119 - mse: 522.8176 - val_loss: 540.5671 - val_mae: 22.1178 - val_mse: 540.5671\n",
      "Epoch 7/10\n",
      "8/8 [==============================] - 0s 5ms/step - loss: 507.6454 - mae: 21.4042 - mse: 507.6454 - val_loss: 525.1454 - val_mae: 21.8134 - val_mse: 525.1454\n",
      "Epoch 8/10\n",
      "8/8 [==============================] - 0s 5ms/step - loss: 497.1411 - mae: 21.1835 - mse: 497.1411 - val_loss: 507.9300 - val_mae: 21.4677 - val_mse: 507.9300\n",
      "Epoch 9/10\n",
      "8/8 [==============================] - 0s 4ms/step - loss: 476.9592 - mae: 20.7633 - mse: 476.9592 - val_loss: 488.7671 - val_mae: 21.0759 - val_mse: 488.7671\n",
      "Epoch 10/10\n",
      "8/8 [==============================] - 0s 4ms/step - loss: 459.1999 - mae: 20.4131 - mse: 459.1999 - val_loss: 467.5031 - val_mae: 20.6301 - val_mse: 467.5031\n",
      "3/3 - 0s - loss: 476.8427 - mae: 20.7766 - mse: 476.8427\n",
      "Associating projects/653299574369/locations/us-central1/metadataStores/default/contexts/test-experiment-0-auto-mpg-local-run-3 to Experiment: test-experiment-0\n"
     ]
    },
    {
     "name": "stderr",
     "output_type": "stream",
     "text": [
      "INFO:google.cloud.aiplatform.metadata.experiment_resources:Associating projects/653299574369/locations/us-central1/metadataStores/default/contexts/test-experiment-0-auto-mpg-local-run-3 to Experiment: test-experiment-0\n"
     ]
    },
    {
     "name": "stdout",
     "output_type": "stream",
     "text": [
      "Epoch 1/10\n",
      "8/8 [==============================] - 1s 37ms/step - loss: 600.3329 - mae: 23.2526 - mse: 600.3329 - val_loss: 621.3459 - val_mae: 23.6644 - val_mse: 621.3459\n",
      "Epoch 2/10\n",
      "8/8 [==============================] - 0s 7ms/step - loss: 590.1422 - mae: 23.0235 - mse: 590.1422 - val_loss: 610.0425 - val_mae: 23.4100 - val_mse: 610.0425\n",
      "Epoch 3/10\n",
      "8/8 [==============================] - 0s 7ms/step - loss: 579.0546 - mae: 22.7733 - mse: 579.0546 - val_loss: 597.5388 - val_mae: 23.1228 - val_mse: 597.5388\n",
      "Epoch 4/10\n",
      "8/8 [==============================] - 0s 7ms/step - loss: 567.0671 - mae: 22.4975 - mse: 567.0671 - val_loss: 583.1577 - val_mae: 22.7883 - val_mse: 583.1577\n",
      "Epoch 5/10\n",
      "8/8 [==============================] - 0s 8ms/step - loss: 552.1586 - mae: 22.1384 - mse: 552.1586 - val_loss: 566.1884 - val_mae: 22.3921 - val_mse: 566.1884\n",
      "Epoch 6/10\n",
      "8/8 [==============================] - 0s 8ms/step - loss: 535.7509 - mae: 21.7394 - mse: 535.7509 - val_loss: 546.0631 - val_mae: 21.9174 - val_mse: 546.0631\n",
      "Epoch 7/10\n",
      "8/8 [==============================] - 0s 8ms/step - loss: 515.0342 - mae: 21.2282 - mse: 515.0342 - val_loss: 522.2038 - val_mae: 21.3408 - val_mse: 522.2038\n",
      "Epoch 8/10\n",
      "8/8 [==============================] - 0s 9ms/step - loss: 493.7981 - mae: 20.7197 - mse: 493.7981 - val_loss: 493.8064 - val_mae: 20.6313 - val_mse: 493.8064\n",
      "Epoch 9/10\n",
      "8/8 [==============================] - 0s 9ms/step - loss: 463.3549 - mae: 19.9350 - mse: 463.3549 - val_loss: 460.1331 - val_mae: 19.7669 - val_mse: 460.1331\n",
      "Epoch 10/10\n",
      "8/8 [==============================] - 0s 6ms/step - loss: 429.3106 - mae: 19.0536 - mse: 429.3106 - val_loss: 420.9381 - val_mae: 18.7303 - val_mse: 420.9381\n",
      "3/3 - 0s - loss: 446.3438 - mae: 19.2851 - mse: 446.3438\n",
      "Associating projects/653299574369/locations/us-central1/metadataStores/default/contexts/test-experiment-0-auto-mpg-local-run-4 to Experiment: test-experiment-0\n"
     ]
    },
    {
     "name": "stderr",
     "output_type": "stream",
     "text": [
      "INFO:google.cloud.aiplatform.metadata.experiment_resources:Associating projects/653299574369/locations/us-central1/metadataStores/default/contexts/test-experiment-0-auto-mpg-local-run-4 to Experiment: test-experiment-0\n"
     ]
    },
    {
     "name": "stdout",
     "output_type": "stream",
     "text": [
      "Epoch 1/10\n",
      "8/8 [==============================] - 1s 22ms/step - loss: 604.4916 - mae: 23.3337 - mse: 604.4916 - val_loss: 624.5139 - val_mae: 23.7275 - val_mse: 624.5139\n",
      "Epoch 2/10\n",
      "8/8 [==============================] - 0s 5ms/step - loss: 588.2787 - mae: 22.9893 - mse: 588.2787 - val_loss: 608.2618 - val_mae: 23.3680 - val_mse: 608.2618\n",
      "Epoch 3/10\n",
      "8/8 [==============================] - 0s 5ms/step - loss: 574.0432 - mae: 22.6656 - mse: 574.0432 - val_loss: 590.8344 - val_mae: 22.9882 - val_mse: 590.8344\n",
      "Epoch 4/10\n",
      "8/8 [==============================] - 0s 7ms/step - loss: 554.9203 - mae: 22.2469 - mse: 554.9203 - val_loss: 570.8441 - val_mae: 22.5536 - val_mse: 570.8441\n",
      "Epoch 5/10\n",
      "8/8 [==============================] - 0s 5ms/step - loss: 536.3688 - mae: 21.8189 - mse: 536.3688 - val_loss: 547.6412 - val_mae: 22.0460 - val_mse: 547.6412\n",
      "Epoch 6/10\n",
      "8/8 [==============================] - 0s 5ms/step - loss: 513.6316 - mae: 21.3151 - mse: 513.6316 - val_loss: 520.4928 - val_mae: 21.4412 - val_mse: 520.4928\n",
      "Epoch 7/10\n",
      "8/8 [==============================] - 0s 5ms/step - loss: 486.9765 - mae: 20.7162 - mse: 486.9765 - val_loss: 488.7016 - val_mae: 20.7222 - val_mse: 488.7016\n",
      "Epoch 8/10\n",
      "8/8 [==============================] - 0s 5ms/step - loss: 455.2464 - mae: 19.9972 - mse: 455.2464 - val_loss: 451.5404 - val_mae: 19.8634 - val_mse: 451.5404\n",
      "Epoch 9/10\n",
      "8/8 [==============================] - 0s 5ms/step - loss: 419.7082 - mae: 19.1725 - mse: 419.7082 - val_loss: 410.3999 - val_mae: 18.8696 - val_mse: 410.3999\n",
      "Epoch 10/10\n",
      "8/8 [==============================] - 0s 5ms/step - loss: 382.2036 - mae: 18.1904 - mse: 382.2036 - val_loss: 365.1360 - val_mae: 17.7148 - val_mse: 365.1360\n",
      "3/3 - 0s - loss: 377.6814 - mae: 18.0299 - mse: 377.6814\n"
     ]
    }
   ],
   "source": [
    "# Define experiment parameters\n",
    "parameters = [\n",
    "    {\"num_units\": 16, \"dropout_rate\": 0.1, \"epochs\": 3},\n",
    "    {\"num_units\": 16, \"dropout_rate\": 0.1, \"epochs\": 10},\n",
    "    {\"num_units\": 16, \"dropout_rate\": 0.2, \"epochs\": 10},\n",
    "    {\"num_units\": 32, \"dropout_rate\": 0.1, \"epochs\": 10},\n",
    "    {\"num_units\": 32, \"dropout_rate\": 0.2, \"epochs\": 10},\n",
    "]\n",
    "\n",
    "# Read data\n",
    "dataset = read_data(\n",
    "    \"http://archive.ics.uci.edu/ml/machine-learning-databases/auto-mpg/auto-mpg.data\"\n",
    ")\n",
    "\n",
    "# Split data\n",
    "train_dataset, test_dataset, train_labels, test_labels = train_test_split(dataset)\n",
    "\n",
    "# Normalize data\n",
    "normed_train_data, normed_test_data = normalize_dataset(train_dataset, test_dataset)\n",
    "\n",
    "# Run experiments\n",
    "for i, params in enumerate(parameters):\n",
    "\n",
    "    # Initialize Vertex AI Experiment run\n",
    "    vertex_ai.start_run(run=f\"auto-mpg-local-run-{i}\")\n",
    "\n",
    "    # Log training parameters\n",
    "    vertex_ai.log_params(params)\n",
    "\n",
    "    # Build model\n",
    "    model = build_model(\n",
    "        num_units=params[\"num_units\"], dropout_rate=params[\"dropout_rate\"]\n",
    "    )\n",
    "\n",
    "    # Train model\n",
    "    history = train(\n",
    "        model,\n",
    "        normed_train_data,\n",
    "        train_labels,\n",
    "        epochs=params[\"epochs\"],\n",
    "    )\n",
    "\n",
    "    # Log additional parameters\n",
    "    vertex_ai.log_params(history.params)\n",
    "\n",
    "    # Log metrics per epochs (Time Series Metrics - for Tensorboard)\n",
    "    for idx in range(0, history.params[\"epochs\"]):\n",
    "        vertex_ai.log_time_series_metrics(\n",
    "            {\n",
    "                \"train_mae\": history.history[\"mae\"][idx],\n",
    "                \"train_mse\": history.history[\"mse\"][idx],\n",
    "            }\n",
    "        )\n",
    "\n",
    "    # Log final metrics\n",
    "    loss, mae, mse = model.evaluate(normed_test_data, test_labels, verbose=2)\n",
    "    vertex_ai.log_metrics({\"eval_loss\": loss, \"eval_mae\": mae, \"eval_mse\": mse})\n",
    "\n",
    "    vertex_ai.end_run()"
   ]
  },
  {
   "cell_type": "markdown",
   "metadata": {
    "id": "jZLrJZTfL7tE"
   },
   "source": [
    "### Extract parameters and metrics into a dataframe for analysis\n",
    "\n",
    "We can also extract all parameters and metrics associated with any Experiment into a dataframe for further analysis."
   ]
  },
  {
   "cell_type": "code",
   "execution_count": 39,
   "metadata": {
    "id": "jbRf1WoH_vbY"
   },
   "outputs": [
    {
     "data": {
      "text/html": [
       "<div>\n",
       "<style scoped>\n",
       "    .dataframe tbody tr th:only-of-type {\n",
       "        vertical-align: middle;\n",
       "    }\n",
       "\n",
       "    .dataframe tbody tr th {\n",
       "        vertical-align: top;\n",
       "    }\n",
       "\n",
       "    .dataframe thead th {\n",
       "        text-align: right;\n",
       "    }\n",
       "</style>\n",
       "<table border=\"1\" class=\"dataframe\">\n",
       "  <thead>\n",
       "    <tr style=\"text-align: right;\">\n",
       "      <th></th>\n",
       "      <th>0</th>\n",
       "      <th>1</th>\n",
       "      <th>2</th>\n",
       "      <th>3</th>\n",
       "      <th>4</th>\n",
       "    </tr>\n",
       "  </thead>\n",
       "  <tbody>\n",
       "    <tr>\n",
       "      <th>experiment_name</th>\n",
       "      <td>test-experiment-0</td>\n",
       "      <td>test-experiment-0</td>\n",
       "      <td>test-experiment-0</td>\n",
       "      <td>test-experiment-0</td>\n",
       "      <td>test-experiment-0</td>\n",
       "    </tr>\n",
       "    <tr>\n",
       "      <th>run_name</th>\n",
       "      <td>auto-mpg-local-run-4</td>\n",
       "      <td>auto-mpg-local-run-3</td>\n",
       "      <td>auto-mpg-local-run-2</td>\n",
       "      <td>auto-mpg-local-run-1</td>\n",
       "      <td>auto-mpg-local-run-0</td>\n",
       "    </tr>\n",
       "    <tr>\n",
       "      <th>run_type</th>\n",
       "      <td>system.ExperimentRun</td>\n",
       "      <td>system.ExperimentRun</td>\n",
       "      <td>system.ExperimentRun</td>\n",
       "      <td>system.ExperimentRun</td>\n",
       "      <td>system.ExperimentRun</td>\n",
       "    </tr>\n",
       "    <tr>\n",
       "      <th>state</th>\n",
       "      <td>COMPLETE</td>\n",
       "      <td>COMPLETE</td>\n",
       "      <td>COMPLETE</td>\n",
       "      <td>COMPLETE</td>\n",
       "      <td>COMPLETE</td>\n",
       "    </tr>\n",
       "    <tr>\n",
       "      <th>param.dropout_rate</th>\n",
       "      <td>0.2</td>\n",
       "      <td>0.1</td>\n",
       "      <td>0.2</td>\n",
       "      <td>0.1</td>\n",
       "      <td>0.1</td>\n",
       "    </tr>\n",
       "    <tr>\n",
       "      <th>param.verbose</th>\n",
       "      <td>1.0</td>\n",
       "      <td>1.0</td>\n",
       "      <td>1.0</td>\n",
       "      <td>1.0</td>\n",
       "      <td>1.0</td>\n",
       "    </tr>\n",
       "    <tr>\n",
       "      <th>param.num_units</th>\n",
       "      <td>32.0</td>\n",
       "      <td>32.0</td>\n",
       "      <td>16.0</td>\n",
       "      <td>16.0</td>\n",
       "      <td>16.0</td>\n",
       "    </tr>\n",
       "    <tr>\n",
       "      <th>param.steps</th>\n",
       "      <td>8.0</td>\n",
       "      <td>8.0</td>\n",
       "      <td>8.0</td>\n",
       "      <td>8.0</td>\n",
       "      <td>8.0</td>\n",
       "    </tr>\n",
       "    <tr>\n",
       "      <th>param.epochs</th>\n",
       "      <td>10.0</td>\n",
       "      <td>10.0</td>\n",
       "      <td>10.0</td>\n",
       "      <td>10.0</td>\n",
       "      <td>3.0</td>\n",
       "    </tr>\n",
       "    <tr>\n",
       "      <th>metric.eval_loss</th>\n",
       "      <td>377.681427</td>\n",
       "      <td>446.343842</td>\n",
       "      <td>476.842651</td>\n",
       "      <td>515.855896</td>\n",
       "      <td>572.209839</td>\n",
       "    </tr>\n",
       "    <tr>\n",
       "      <th>metric.eval_mse</th>\n",
       "      <td>377.681427</td>\n",
       "      <td>446.343842</td>\n",
       "      <td>476.842651</td>\n",
       "      <td>515.855896</td>\n",
       "      <td>572.209839</td>\n",
       "    </tr>\n",
       "    <tr>\n",
       "      <th>metric.eval_mae</th>\n",
       "      <td>18.029911</td>\n",
       "      <td>19.285091</td>\n",
       "      <td>20.776581</td>\n",
       "      <td>21.003126</td>\n",
       "      <td>22.645182</td>\n",
       "    </tr>\n",
       "    <tr>\n",
       "      <th>time_series_metric.train_mae</th>\n",
       "      <td>18.190434</td>\n",
       "      <td>19.053617</td>\n",
       "      <td>20.413076</td>\n",
       "      <td>20.463539</td>\n",
       "      <td>22.138628</td>\n",
       "    </tr>\n",
       "    <tr>\n",
       "      <th>time_series_metric.train_mse</th>\n",
       "      <td>382.203613</td>\n",
       "      <td>429.310638</td>\n",
       "      <td>459.19989</td>\n",
       "      <td>487.457001</td>\n",
       "      <td>544.788147</td>\n",
       "    </tr>\n",
       "  </tbody>\n",
       "</table>\n",
       "</div>"
      ],
      "text/plain": [
       "                                                 0                     1  \\\n",
       "experiment_name                  test-experiment-0     test-experiment-0   \n",
       "run_name                      auto-mpg-local-run-4  auto-mpg-local-run-3   \n",
       "run_type                      system.ExperimentRun  system.ExperimentRun   \n",
       "state                                     COMPLETE              COMPLETE   \n",
       "param.dropout_rate                             0.2                   0.1   \n",
       "param.verbose                                  1.0                   1.0   \n",
       "param.num_units                               32.0                  32.0   \n",
       "param.steps                                    8.0                   8.0   \n",
       "param.epochs                                  10.0                  10.0   \n",
       "metric.eval_loss                        377.681427            446.343842   \n",
       "metric.eval_mse                         377.681427            446.343842   \n",
       "metric.eval_mae                          18.029911             19.285091   \n",
       "time_series_metric.train_mae             18.190434             19.053617   \n",
       "time_series_metric.train_mse            382.203613            429.310638   \n",
       "\n",
       "                                                 2                     3  \\\n",
       "experiment_name                  test-experiment-0     test-experiment-0   \n",
       "run_name                      auto-mpg-local-run-2  auto-mpg-local-run-1   \n",
       "run_type                      system.ExperimentRun  system.ExperimentRun   \n",
       "state                                     COMPLETE              COMPLETE   \n",
       "param.dropout_rate                             0.2                   0.1   \n",
       "param.verbose                                  1.0                   1.0   \n",
       "param.num_units                               16.0                  16.0   \n",
       "param.steps                                    8.0                   8.0   \n",
       "param.epochs                                  10.0                  10.0   \n",
       "metric.eval_loss                        476.842651            515.855896   \n",
       "metric.eval_mse                         476.842651            515.855896   \n",
       "metric.eval_mae                          20.776581             21.003126   \n",
       "time_series_metric.train_mae             20.413076             20.463539   \n",
       "time_series_metric.train_mse             459.19989            487.457001   \n",
       "\n",
       "                                                 4  \n",
       "experiment_name                  test-experiment-0  \n",
       "run_name                      auto-mpg-local-run-0  \n",
       "run_type                      system.ExperimentRun  \n",
       "state                                     COMPLETE  \n",
       "param.dropout_rate                             0.1  \n",
       "param.verbose                                  1.0  \n",
       "param.num_units                               16.0  \n",
       "param.steps                                    8.0  \n",
       "param.epochs                                   3.0  \n",
       "metric.eval_loss                        572.209839  \n",
       "metric.eval_mse                         572.209839  \n",
       "metric.eval_mae                          22.645182  \n",
       "time_series_metric.train_mae             22.138628  \n",
       "time_series_metric.train_mse            544.788147  "
      ]
     },
     "execution_count": 39,
     "metadata": {},
     "output_type": "execute_result"
    }
   ],
   "source": [
    "experiment_df = vertex_ai.get_experiment_df()\n",
    "experiment_df.T"
   ]
  },
  {
   "cell_type": "markdown",
   "metadata": {
    "id": "EYuYgqVCMKU1"
   },
   "source": [
    "### Visualizing an experiment's parameters and metrics\n",
    "\n",
    "You use parallel coordinates plotting to visualize experiment's parameters and metrics"
   ]
  },
  {
   "cell_type": "code",
   "execution_count": 40,
   "metadata": {
    "id": "r8orCj8iJuO1"
   },
   "outputs": [
    {
     "data": {
      "text/plain": [
       "<matplotlib.legend.Legend at 0x7fe329e34090>"
      ]
     },
     "execution_count": 40,
     "metadata": {},
     "output_type": "execute_result"
    },
    {
     "data": {
      "image/png": "[encoded data removed]",
      "text/plain": [
       "<Figure size 1500x1000 with 1 Axes>"
      ]
     },
     "metadata": {},
     "output_type": "display_data"
    }
   ],
   "source": [
    "plt.rcParams[\"figure.figsize\"] = [15, 10]\n",
    "\n",
    "ax = pd.plotting.parallel_coordinates(\n",
    "    experiment_df.reset_index(level=0),\n",
    "    \"run_name\",\n",
    "    cols=[\n",
    "        # \"param.num_units\",\n",
    "        # \"param.dropout_rate\",\n",
    "        # \"param.epochs\",\n",
    "        \"metric.eval_loss\",\n",
    "        \"metric.eval_mse\",\n",
    "        \"metric.eval_mae\",\n",
    "    ],\n",
    "    color=[\"blue\", \"green\", \"pink\", \"red\", \"yellow\"],\n",
    ")\n",
    "# ax.set_yscale(\"symlog\")\n",
    "ax.legend(bbox_to_anchor=(1.0, 0.5))"
   ]
  },
  {
   "cell_type": "markdown",
   "metadata": {
    "id": "TpV-iwP9qw9c"
   },
   "source": [
    "## Cleaning up\n",
    "\n",
    "You can delete the individual resources you created in this tutorial."
   ]
  },
  {
   "cell_type": "code",
   "execution_count": 41,
   "metadata": {
    "id": "659e822f49c1"
   },
   "outputs": [],
   "source": [
    "# # Delete experiment\n",
    "# exp = vertex_ai.Experiment(EXPERIMENT_NAME)\n",
    "# exp.delete(delete_backing_tensorboard_runs=True)\n",
    "\n",
    "# # Delete Tensorboard\n",
    "# vertex_ai_tb.delete()\n",
    "\n",
    "# # Delete Cloud Storage objects that were created\n",
    "# delete_bucket = False\n",
    "\n",
    "# if delete_bucket or os.getenv(\"IS_TESTING\"):\n",
    "#     ! gsutil rm -rf {BUCKET_URI}"
   ]
  },
  {
   "cell_type": "code",
   "execution_count": null,
   "metadata": {},
   "outputs": [],
   "source": []
  }
 ],
 "metadata": {
  "colab": {
   "collapsed_sections": [],
   "name": "comparing_local_trained_models.ipynb",
   "toc_visible": true
  },
  "environment": {
   "kernel": "python3",
   "name": "tf2-gpu.2-8.m104",
   "type": "gcloud",
   "uri": "gcr.io/deeplearning-platform-release/tf2-gpu.2-8:m104"
  },
  "kernelspec": {
   "display_name": "Python 3 (ipykernel)",
   "language": "python",
   "name": "python3"
  },
  "language_info": {
   "codemirror_mode": {
    "name": "ipython",
    "version": 3
   },
   "file_extension": ".py",
   "mimetype": "text/x-python",
   "name": "python",
   "nbconvert_exporter": "python",
   "pygments_lexer": "ipython3",
   "version": "3.7.12"
  }
 },
 "nbformat": 4,
 "nbformat_minor": 4
}
